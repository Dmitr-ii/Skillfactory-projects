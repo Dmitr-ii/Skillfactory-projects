{
 "cells": [
  {
   "cell_type": "code",
   "execution_count": 13,
   "id": "b82478f7-a9c9-4f71-94eb-9ca64a589a27",
   "metadata": {},
   "outputs": [
    {
     "name": "stdout",
     "output_type": "stream",
     "text": [
      "97\n",
      "7\n"
     ]
    }
   ],
   "source": [
    "import numpy as np #подключаем модуль математических операций\n",
    "\n",
    "    \n",
    "def game_core_v2(number):\n",
    "    '''Сначала устанавливаем любое random число, а потом уменьшаем или увеличиваем его в зависимости от того, больше оно или меньше нужного.\n",
    "       Функция принимает загаданное число и возвращает число попыток'''\n",
    "    count = 1\n",
    "    range_low = 0 #устанавливаем нижнюю начальную границу поиска\n",
    "    range_up =102 #устанавливаем верхнюю начальную границу поиска\n",
    "    \n",
    "    predict = np.random.randint(1,101)\n",
    "    print(predict)\n",
    "    while number != predict:\n",
    "        count+=1\n",
    "        if number > predict: \n",
    "            range_up = number#верхняя граница поиска есть установленное число, если оно больше искомого, поиск слева от числа \n",
    "            number = (range_up + range_low)//2#число устанавливается на середине диапазона\n",
    "            \n",
    "        elif number < predict:\n",
    "            range_low = number#нижняя граница поиска есть установленное число, если оно меньше искомого, поиск справа от числа\n",
    "            number = (range_up + range_low)//2#число устанавливается на середине диапазона \n",
    "            \n",
    "    return(count) # выход из цикла, если угадали\n",
    "\n",
    "score_game = game_core_v2(50)\n",
    "\n",
    "print(score_game) # вывод числа попыток\n",
    "\n",
    "    "
   ]
  },
  {
   "cell_type": "code",
   "execution_count": null,
   "id": "2ec62c0f-e07c-417a-9261-17e6ea503111",
   "metadata": {},
   "outputs": [],
   "source": []
  },
  {
   "cell_type": "code",
   "execution_count": null,
   "id": "a3072238-0149-4b39-bf15-84888a5b5892",
   "metadata": {},
   "outputs": [],
   "source": []
  },
  {
   "cell_type": "code",
   "execution_count": null,
   "id": "c40d2c0f",
   "metadata": {},
   "outputs": [],
   "source": []
  }
 ],
 "metadata": {
  "kernelspec": {
   "display_name": "Python 3",
   "language": "python",
   "name": "python3"
  },
  "language_info": {
   "codemirror_mode": {
    "name": "ipython",
    "version": 3
   },
   "file_extension": ".py",
   "mimetype": "text/x-python",
   "name": "python",
   "nbconvert_exporter": "python",
   "pygments_lexer": "ipython3",
   "version": "3.8.8"
  }
 },
 "nbformat": 4,
 "nbformat_minor": 5
}
